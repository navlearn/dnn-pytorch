{
 "cells": [
  {
   "cell_type": "markdown",
   "id": "10906a73-0d54-45c1-a637-1fbf9ce22333",
   "metadata": {},
   "source": [
    "### Python array/ numpy array/ torch tensor"
   ]
  },
  {
   "cell_type": "code",
   "execution_count": null,
   "id": "fd18f905-e803-40f8-b012-b8b4862fa9d9",
   "metadata": {},
   "outputs": [],
   "source": [
    "import numpy as np\n",
    "import torch"
   ]
  },
  {
   "cell_type": "code",
   "execution_count": null,
   "id": "0ff09648-ff19-4570-a3d8-e8fb29efd7d4",
   "metadata": {},
   "outputs": [],
   "source": [
    "# method to print data, type of data object, data element type, and dimensionality\n",
    "def print_data(data):\n",
    "    print(data)\n",
    "    print(type(data))\n",
    "    if not isinstance(data, list):\n",
    "        print(data.dtype)\n",
    "        print(data.ndim)"
   ]
  },
  {
   "cell_type": "code",
   "execution_count": null,
   "id": "bb211cf1-12e9-4eb5-bf5f-5101b95888ff",
   "metadata": {},
   "outputs": [],
   "source": [
    "# python list can have non homogenous data int, float, str, dict or other list etc\n",
    "py_data = [23, 3, 3434,454]\n",
    "print_data(py_data)"
   ]
  },
  {
   "cell_type": "code",
   "execution_count": null,
   "id": "a8787870-6c7f-4c91-b7bb-95f8bc0827c4",
   "metadata": {},
   "outputs": [],
   "source": [
    "# numpy array\n",
    "np_data = np.array([4343,34,5,2323,4554])\n",
    "print_data(np_data)"
   ]
  },
  {
   "cell_type": "code",
   "execution_count": null,
   "id": "0d59f032-36ff-4b18-8b6f-a9cb2451a221",
   "metadata": {},
   "outputs": [],
   "source": [
    "# pytorch tensor of dim 1\n",
    "torch_data = torch.tensor([334,43,34,3,5,3434])\n",
    "print_data(torch_data)"
   ]
  },
  {
   "cell_type": "markdown",
   "id": "ee4e3c87-52de-4804-9f89-f5d71b1084ca",
   "metadata": {},
   "source": [
    "### Random tensors"
   ]
  },
  {
   "cell_type": "code",
   "execution_count": null,
   "id": "c2f25b52-1305-4f2f-a4cf-742f78d8db53",
   "metadata": {},
   "outputs": [],
   "source": [
    "# generating random tensors \n",
    "rand_tensor = torch.rand(11)\n",
    "print_data(rand_tensor)"
   ]
  },
  {
   "cell_type": "code",
   "execution_count": null,
   "id": "0ead41dc-e1a6-4d01-9d20-b3acf05c5ab8",
   "metadata": {},
   "outputs": [],
   "source": [
    "# Generating tensors from mnumpy array"
   ]
  },
  {
   "cell_type": "code",
   "execution_count": null,
   "id": "9573f4f8-9126-4f85-97d1-74b975a8d6a8",
   "metadata": {},
   "outputs": [],
   "source": [
    "# generating  tensors from np range\n",
    "rand_tensor = torch.tensor(np.arange(10).reshape(2,5))\n",
    "print_data(rand_tensor)"
   ]
  },
  {
   "cell_type": "markdown",
   "id": "26c0f41e-62b0-4aea-ba22-9d176a074918",
   "metadata": {},
   "source": [
    "### View function convert to different shape"
   ]
  },
  {
   "cell_type": "code",
   "execution_count": null,
   "id": "b05502da-ee9e-4c88-88de-91f067edcd63",
   "metadata": {},
   "outputs": [],
   "source": [
    "# Returns a new tensor with the same data as the self tensor but of a different shape.\n",
    "rand_tensor = torch.rand(20)\n",
    "view_5_4 = rand_tensor.view(5,4)\n",
    "print_data(view_5_4)"
   ]
  },
  {
   "cell_type": "code",
   "execution_count": null,
   "id": "64208c4e-1319-464a-b2fe-5020f6bc3536",
   "metadata": {},
   "outputs": [],
   "source": [
    "# use value view \n",
    "print_data(view_5_4.view(-1, 1))"
   ]
  },
  {
   "cell_type": "markdown",
   "id": "23801c24-43ef-439a-92f2-3d4d32ecd8d7",
   "metadata": {},
   "source": [
    "### Scaler"
   ]
  },
  {
   "cell_type": "code",
   "execution_count": null,
   "id": "04756702-82d7-4fad-9cc0-30efff1ed48c",
   "metadata": {},
   "outputs": [],
   "source": [
    "# Scaler has ndim 0\n",
    "s = torch.tensor(1010123)\n",
    "print_data(s)"
   ]
  },
  {
   "cell_type": "code",
   "execution_count": null,
   "id": "c34f3a62-a501-433c-a1a5-9ed946fddfb0",
   "metadata": {},
   "outputs": [],
   "source": [
    "# Get value. \n",
    "s.item()"
   ]
  },
  {
   "cell_type": "code",
   "execution_count": null,
   "id": "f17b0223-8f6c-4ce4-b46e-143b520acca7",
   "metadata": {},
   "outputs": [],
   "source": [
    "#  ndim 1\n",
    "s = torch.tensor([1010123])\n",
    "print_data(s)\n",
    "# Get value. \n",
    "s.item()"
   ]
  },
  {
   "cell_type": "code",
   "execution_count": null,
   "id": "66a845ff-b637-43aa-b5f2-c0b3e818258d",
   "metadata": {},
   "outputs": [],
   "source": [
    "# item() do not work with 2 values\n",
    "#  ndim 1\n",
    "s = torch.tensor([1010123, 2323])\n",
    "print_data(s)\n",
    "# Get value. See by uncommenting following\n",
    "# s.item()"
   ]
  },
  {
   "cell_type": "markdown",
   "id": "42e6bf6b-4412-47e9-b40d-29168a50f2fc",
   "metadata": {},
   "source": [
    "### Matix"
   ]
  },
  {
   "cell_type": "code",
   "execution_count": null,
   "id": "f60d4cf1-4524-43fc-936a-05f1bfb81bdd",
   "metadata": {},
   "outputs": [],
   "source": [
    "# Matrix\n",
    "matrix = torch.tensor([[237, 28], \n",
    "                       [92, 1120]])\n",
    "matrix"
   ]
  },
  {
   "cell_type": "code",
   "execution_count": null,
   "id": "e93bcc0a-f5ea-4fe6-8e31-e420765c5af6",
   "metadata": {},
   "outputs": [],
   "source": [
    "matrix.shape"
   ]
  },
  {
   "cell_type": "code",
   "execution_count": null,
   "id": "f5d3c4d5-4ac7-432d-9d5b-e764c31318c5",
   "metadata": {},
   "outputs": [],
   "source": [
    "matrix.ndim"
   ]
  },
  {
   "cell_type": "code",
   "execution_count": null,
   "id": "061eeb1b-d2ac-4fb5-a3ba-c71231e282fb",
   "metadata": {},
   "outputs": [],
   "source": [
    "matrix.dtype"
   ]
  },
  {
   "cell_type": "code",
   "execution_count": null,
   "id": "89dde3f6-4749-43c8-87a8-0602b3e7ff23",
   "metadata": {},
   "outputs": [],
   "source": [
    "matrix.size()"
   ]
  },
  {
   "cell_type": "code",
   "execution_count": null,
   "id": "b3dad850-d075-45a4-babe-6b5757d12af8",
   "metadata": {},
   "outputs": [],
   "source": [
    "matrix_1_by_4 = matrix.view(4,1)"
   ]
  },
  {
   "cell_type": "code",
   "execution_count": null,
   "id": "75c28cc1-29b9-4ea3-a376-f46264236443",
   "metadata": {},
   "outputs": [],
   "source": [
    "matrix_1_by_4.size()"
   ]
  },
  {
   "cell_type": "code",
   "execution_count": null,
   "id": "379f465a-06f8-4abf-9d2a-a1084722e1c5",
   "metadata": {},
   "outputs": [],
   "source": [
    "matrix_1_by_4"
   ]
  },
  {
   "cell_type": "code",
   "execution_count": null,
   "id": "95bbd5d4-77a7-491a-bd14-89c4d942b9fa",
   "metadata": {},
   "outputs": [],
   "source": [
    "# Let sum original matrix"
   ]
  },
  {
   "cell_type": "code",
   "execution_count": null,
   "id": "ddc94d1d-231d-49cb-b04e-9a146244a4fd",
   "metadata": {},
   "outputs": [],
   "source": [
    "matrix"
   ]
  },
  {
   "cell_type": "code",
   "execution_count": null,
   "id": "423ede1e-113d-4b1a-8950-a5beb8cd60ff",
   "metadata": {},
   "outputs": [],
   "source": [
    "sum(matrix)"
   ]
  },
  {
   "cell_type": "code",
   "execution_count": null,
   "id": "c61078d6-1011-406a-a6df-187a4619abb7",
   "metadata": {},
   "outputs": [],
   "source": [
    "# By default sum is by flattening array"
   ]
  },
  {
   "cell_type": "code",
   "execution_count": null,
   "id": "d60ab603-ee4c-40a9-b686-f0afef9b48ab",
   "metadata": {},
   "outputs": [],
   "source": [
    "torch.sum(matrix)"
   ]
  },
  {
   "cell_type": "code",
   "execution_count": null,
   "id": "9b96dfd3-16a7-42a1-8bcc-b7a2dc9d4eda",
   "metadata": {},
   "outputs": [],
   "source": [
    "# By default sum is by flattening array"
   ]
  },
  {
   "cell_type": "code",
   "execution_count": null,
   "id": "5a5794bf-b9a7-45e4-b651-4ee074596b86",
   "metadata": {},
   "outputs": [],
   "source": [
    "torch.sum(matrix, axis=0)"
   ]
  },
  {
   "cell_type": "code",
   "execution_count": null,
   "id": "c00904a3-2dbf-43d5-8ebf-c0e24ec9c1cc",
   "metadata": {},
   "outputs": [],
   "source": [
    "torch.sum(matrix, axis=1)"
   ]
  },
  {
   "cell_type": "code",
   "execution_count": 31,
   "id": "35a40b2c-13db-4980-a3f7-dac4fe5b87bb",
   "metadata": {},
   "outputs": [],
   "source": [
    "# Understand dimensions in tensor\n",
    "URL = \"https://raw.githubusercontent.com/mrdbourke/pytorch-deep-learning/main/images/00-pytorch-different-tensor-dimensions.png\"\n",
    "# from https://www.learnpytorch.io/00_pytorch_fundamentals/"
   ]
  },
  {
   "cell_type": "code",
   "execution_count": null,
   "id": "fb4ed2fc-e145-4e21-840c-f78525421556",
   "metadata": {},
   "outputs": [],
   "source": []
  }
 ],
 "metadata": {
  "kernelspec": {
   "display_name": "Python 3 (ipykernel)",
   "language": "python",
   "name": "python3"
  },
  "language_info": {
   "codemirror_mode": {
    "name": "ipython",
    "version": 3
   },
   "file_extension": ".py",
   "mimetype": "text/x-python",
   "name": "python",
   "nbconvert_exporter": "python",
   "pygments_lexer": "ipython3",
   "version": "3.10.11"
  }
 },
 "nbformat": 4,
 "nbformat_minor": 5
}
