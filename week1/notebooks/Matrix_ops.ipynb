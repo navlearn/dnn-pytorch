{
 "cells": [
  {
   "cell_type": "code",
   "execution_count": null,
   "id": "5a7c59bb-df36-4710-9670-d4555b52321b",
   "metadata": {},
   "outputs": [],
   "source": [
    "import torch\n",
    "import numpy as np"
   ]
  },
  {
   "cell_type": "markdown",
   "id": "5d00299a-8866-4976-ab16-cbdea9b1be13",
   "metadata": {},
   "source": [
    "### Matrix multiplication"
   ]
  },
  {
   "cell_type": "code",
   "execution_count": null,
   "id": "ea60e676-8979-4ee9-a3cc-f718bc9c5098",
   "metadata": {},
   "outputs": [],
   "source": [
    "A = torch.tensor([\n",
    "                    [2, 4, 4],\n",
    "                    [1, 0, 2]\n",
    "                ])\n",
    "B = torch.tensor([\n",
    "                    [12, 2],\n",
    "                    [5, 3],\n",
    "                    [2, 7]\n",
    "                ])"
   ]
  },
  {
   "cell_type": "code",
   "execution_count": null,
   "id": "9b992850-aca7-49d9-bbf0-aa985af8e561",
   "metadata": {},
   "outputs": [],
   "source": [
    "C = torch.mm(A, B)\n",
    "C"
   ]
  },
  {
   "cell_type": "code",
   "execution_count": null,
   "id": "e11d5d2c-77cc-41a9-a57b-e82b5621a3f0",
   "metadata": {},
   "outputs": [],
   "source": [
    "print(A.shape)\n",
    "print(B.shape)\n",
    "print(C.shape)"
   ]
  },
  {
   "cell_type": "markdown",
   "id": "f76dc56e-d36a-4b34-ad7e-0d7a1afdb260",
   "metadata": {},
   "source": [
    "### 3-D tensor"
   ]
  },
  {
   "cell_type": "code",
   "execution_count": null,
   "id": "b4738f0a-c2b3-48a4-b468-9cbdb4ac5c90",
   "metadata": {},
   "outputs": [],
   "source": [
    "# Tensor\n",
    "tensor_3d = torch.tensor([[[4, 2, 3],\n",
    "                        [7, 2, 2],\n",
    "                        [8, 1, 6]]])\n",
    "tensor_3d"
   ]
  },
  {
   "cell_type": "markdown",
   "id": "6fdf073a-8102-49e5-b82b-7bf94cc36748",
   "metadata": {},
   "source": [
    "### indexing / SLicing"
   ]
  },
  {
   "cell_type": "code",
   "execution_count": null,
   "id": "44d659ad-fe31-4063-9c43-a88682e12f52",
   "metadata": {},
   "outputs": [],
   "source": [
    "tensor_3d[:,:,0]"
   ]
  },
  {
   "cell_type": "code",
   "execution_count": null,
   "id": "869eb66b-068e-4a41-8e96-63753838db2b",
   "metadata": {},
   "outputs": [],
   "source": [
    "tensor_3d[0,:,:]"
   ]
  },
  {
   "cell_type": "code",
   "execution_count": null,
   "id": "6fea6d1b-bffd-4667-9349-f221765b7c56",
   "metadata": {},
   "outputs": [],
   "source": [
    "tensor_3d[-1,:,:]"
   ]
  },
  {
   "cell_type": "code",
   "execution_count": null,
   "id": "6c3b2ca7-0c43-49f4-b5b0-9fd3defae564",
   "metadata": {},
   "outputs": [],
   "source": [
    "# select last row\n",
    "tensor_3d[0][-1]"
   ]
  },
  {
   "cell_type": "code",
   "execution_count": null,
   "id": "569e8d36-fab5-413e-b2ec-afa2b6fb8b3d",
   "metadata": {},
   "outputs": [],
   "source": [
    "# select 1st row\n",
    "tensor_3d[0][0]"
   ]
  },
  {
   "cell_type": "code",
   "execution_count": null,
   "id": "a00ce6dc-5093-4e68-8ce3-91587b26c22f",
   "metadata": {},
   "outputs": [],
   "source": [
    "# select middle row"
   ]
  },
  {
   "cell_type": "code",
   "execution_count": null,
   "id": "a72d18e9-7a53-4309-bc9d-f366338f8fff",
   "metadata": {},
   "outputs": [],
   "source": [
    "tensor_3d[0][1]"
   ]
  },
  {
   "cell_type": "code",
   "execution_count": null,
   "id": "54e38e5b-2e07-4cdb-9e45-57c75b3416c8",
   "metadata": {},
   "outputs": [],
   "source": [
    "# select middle columns\n",
    "tensor_3d[:,:,1]"
   ]
  },
  {
   "cell_type": "code",
   "execution_count": null,
   "id": "2d72490d-1c3d-431e-934b-4cdf1c1268c0",
   "metadata": {},
   "outputs": [],
   "source": [
    "# Lets take example of an image pixel\n",
    "# e.g. nos of Channels X width X height"
   ]
  },
  {
   "cell_type": "code",
   "execution_count": null,
   "id": "cce4887c-5315-4966-a652-86cc20fa4c5f",
   "metadata": {},
   "outputs": [],
   "source": [
    "IMG_URL = \"https://fastly.picsum.photos/id/866/200/300.jpg?hmac=rcadCENKh4rD6MAp6V_ma-AyWv641M4iiOpe1RyFHeI\""
   ]
  },
  {
   "cell_type": "code",
   "execution_count": null,
   "id": "56b6eec2-7930-4800-b251-0e590f6cda61",
   "metadata": {},
   "outputs": [],
   "source": [
    "import torchvision"
   ]
  },
  {
   "cell_type": "code",
   "execution_count": null,
   "id": "b93a38db-f5a9-494b-bd22-5ee7b60f6ed7",
   "metadata": {},
   "outputs": [],
   "source": [
    "from torchvision import transforms\n",
    "from PIL import Image\n",
    "from io import BytesIO\n",
    "import requests"
   ]
  },
  {
   "cell_type": "code",
   "execution_count": null,
   "id": "6d26a478-1af0-4a27-99f1-98afb68ac8db",
   "metadata": {},
   "outputs": [],
   "source": [
    "# Function to load an image from a URL (snippet using chatgpt)\n",
    "def load_image_from_url(url):\n",
    "    response = requests.get(url)\n",
    "    img = Image.open(BytesIO(response.content))\n",
    "    return img"
   ]
  },
  {
   "cell_type": "code",
   "execution_count": null,
   "id": "d51a5a2a-9ce5-4848-8681-a387b8791861",
   "metadata": {},
   "outputs": [],
   "source": [
    "# Function to preprocess the image and convert it to a PyTorch tensor\n",
    "def preprocess_image(img):\n",
    "    transform = transforms.Compose([\n",
    "        transforms.ToTensor(),\n",
    "    ])\n",
    "    img_tensor = transform(img)\n",
    "    return img_tensor\n"
   ]
  },
  {
   "cell_type": "code",
   "execution_count": null,
   "id": "917ffc14-c33a-4317-aa54-2b9da2038acd",
   "metadata": {},
   "outputs": [],
   "source": [
    "img = load_image_from_url(IMG_URL)"
   ]
  },
  {
   "cell_type": "code",
   "execution_count": null,
   "id": "1dc0d227-1980-494a-8448-eaa22beacb0e",
   "metadata": {},
   "outputs": [],
   "source": [
    "type(img)"
   ]
  },
  {
   "cell_type": "code",
   "execution_count": null,
   "id": "213acd70-b0a1-4923-bcd7-5d8ad1c35bb7",
   "metadata": {},
   "outputs": [],
   "source": [
    "img_tensor = preprocess_image(img)"
   ]
  },
  {
   "cell_type": "code",
   "execution_count": null,
   "id": "3adf4a6e-4bab-4957-a684-4c4608f493b9",
   "metadata": {},
   "outputs": [],
   "source": [
    "img_tensor.shape"
   ]
  },
  {
   "cell_type": "code",
   "execution_count": null,
   "id": "143e0fec-0de9-46d4-bc17-09d92986afbd",
   "metadata": {},
   "outputs": [],
   "source": [
    "img_tensor.shape"
   ]
  },
  {
   "cell_type": "markdown",
   "id": "61fb6202-8743-48a6-8723-c765ec2e333f",
   "metadata": {},
   "source": [
    "### show image"
   ]
  },
  {
   "cell_type": "code",
   "execution_count": null,
   "id": "cece5e4b-bb0e-4841-88b9-d07a61cd1224",
   "metadata": {},
   "outputs": [],
   "source": [
    "from matplotlib import pyplot as plt"
   ]
  },
  {
   "cell_type": "code",
   "execution_count": null,
   "id": "2ed9cb5a-0256-4841-81db-ba399b4452d5",
   "metadata": {},
   "outputs": [],
   "source": [
    "# Transpose the dimensions to [height, width, no_channels] as Imshow takes as so\n",
    "image_for_display = img_tensor.permute(1, 2, 0)\n",
    "plt.imshow(image_for_display)"
   ]
  },
  {
   "cell_type": "code",
   "execution_count": null,
   "id": "bf5d1f39-89b7-4d40-ae21-0791716fd028",
   "metadata": {},
   "outputs": [],
   "source": [
    "image_for_display.shape"
   ]
  },
  {
   "cell_type": "code",
   "execution_count": null,
   "id": "c0009911-c5be-4cc7-8da8-58dc1542eb19",
   "metadata": {
    "scrolled": true
   },
   "outputs": [],
   "source": [
    "help(torch.permute)"
   ]
  },
  {
   "cell_type": "code",
   "execution_count": null,
   "id": "a5d201eb-c49c-42cd-87d5-cc652dd2cc76",
   "metadata": {},
   "outputs": [],
   "source": []
  }
 ],
 "metadata": {
  "kernelspec": {
   "display_name": "Python 3 (ipykernel)",
   "language": "python",
   "name": "python3"
  },
  "language_info": {
   "codemirror_mode": {
    "name": "ipython",
    "version": 3
   },
   "file_extension": ".py",
   "mimetype": "text/x-python",
   "name": "python",
   "nbconvert_exporter": "python",
   "pygments_lexer": "ipython3",
   "version": "3.10.11"
  }
 },
 "nbformat": 4,
 "nbformat_minor": 5
}
