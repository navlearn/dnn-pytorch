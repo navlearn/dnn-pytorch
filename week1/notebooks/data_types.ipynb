{
 "cells": [
  {
   "cell_type": "code",
   "execution_count": 1,
   "id": "00dfe48e-0b7d-431d-bdf7-bef2329c4824",
   "metadata": {},
   "outputs": [],
   "source": [
    "import torch\n",
    "import numpy as np"
   ]
  },
  {
   "cell_type": "code",
   "execution_count": 2,
   "id": "f7ea111c-dfcb-4141-84dd-d91daa154035",
   "metadata": {},
   "outputs": [
    {
     "name": "stdout",
     "output_type": "stream",
     "text": [
      "tensor([ 1., 45., 23.], dtype=torch.float16)\n"
     ]
    }
   ],
   "source": [
    "f1 = torch.tensor([1, 45, 23], dtype=torch.float16)\n",
    "print(f1)"
   ]
  },
  {
   "cell_type": "code",
   "execution_count": 3,
   "id": "3d3a8edc-e51e-408d-a90f-f8790e7baac7",
   "metadata": {},
   "outputs": [
    {
     "data": {
      "text/plain": [
       "tensor([ 2., 46., 24.], dtype=torch.float16)"
      ]
     },
     "execution_count": 3,
     "metadata": {},
     "output_type": "execute_result"
    }
   ],
   "source": [
    "1 + f1"
   ]
  },
  {
   "cell_type": "code",
   "execution_count": 4,
   "id": "4f5bacac-f1cf-4141-bfe0-ca6ec2b2646f",
   "metadata": {},
   "outputs": [
    {
     "data": {
      "text/plain": [
       "tensor([1.0000, 0.0222, 0.0435], dtype=torch.float16)"
      ]
     },
     "execution_count": 4,
     "metadata": {},
     "output_type": "execute_result"
    }
   ],
   "source": [
    "1/f1"
   ]
  },
  {
   "cell_type": "code",
   "execution_count": 5,
   "id": "1aa279d9-ebe1-4d11-aeac-bca414b4659b",
   "metadata": {},
   "outputs": [
    {
     "name": "stdout",
     "output_type": "stream",
     "text": [
      "tensor([ 1., 45., 23.], dtype=torch.float64)\n"
     ]
    }
   ],
   "source": [
    "f32 = torch.tensor([1, 45, 23], dtype=torch.float64)\n",
    "print(f32)"
   ]
  },
  {
   "cell_type": "code",
   "execution_count": 6,
   "id": "8889403c-6c94-48a6-a7b1-c5e1a5ecbc0d",
   "metadata": {},
   "outputs": [
    {
     "data": {
      "text/plain": [
       "tensor([1.0000, 0.0222, 0.0435], dtype=torch.float64)"
      ]
     },
     "execution_count": 6,
     "metadata": {},
     "output_type": "execute_result"
    }
   ],
   "source": [
    "1/f32"
   ]
  },
  {
   "cell_type": "code",
   "execution_count": 7,
   "id": "607dedd9-9420-4bfc-89d6-78dc4acf6c18",
   "metadata": {},
   "outputs": [
    {
     "data": {
      "text/plain": [
       "tensor([ 2., 90., 46.], dtype=torch.float64)"
      ]
     },
     "execution_count": 7,
     "metadata": {},
     "output_type": "execute_result"
    }
   ],
   "source": [
    "f1 + f32"
   ]
  },
  {
   "cell_type": "markdown",
   "id": "c88aa622-ae60-4975-ac4f-d34df23a6867",
   "metadata": {},
   "source": [
    "### where tensor are stored"
   ]
  },
  {
   "cell_type": "code",
   "execution_count": 8,
   "id": "d65b753c-4035-4e14-8512-e7345c490373",
   "metadata": {},
   "outputs": [
    {
     "data": {
      "text/plain": [
       "device(type='cpu')"
      ]
     },
     "execution_count": 8,
     "metadata": {},
     "output_type": "execute_result"
    }
   ],
   "source": [
    "f32.device"
   ]
  },
  {
   "cell_type": "code",
   "execution_count": 9,
   "id": "e84496b1-56d2-442a-9c74-348de336be71",
   "metadata": {},
   "outputs": [
    {
     "data": {
      "text/plain": [
       "device(type='cpu')"
      ]
     },
     "execution_count": 9,
     "metadata": {},
     "output_type": "execute_result"
    }
   ],
   "source": [
    "f1.device"
   ]
  },
  {
   "cell_type": "markdown",
   "id": "ad153569-1835-4ade-ada0-5591effd919c",
   "metadata": {},
   "source": [
    "### some math functions"
   ]
  },
  {
   "cell_type": "code",
   "execution_count": 10,
   "id": "772d58de-eb6a-457d-beac-9cef524db8f6",
   "metadata": {},
   "outputs": [
    {
     "data": {
      "text/plain": [
       "tensor([ 101., 4545., 2323.], dtype=torch.float64)"
      ]
     },
     "execution_count": 10,
     "metadata": {},
     "output_type": "execute_result"
    }
   ],
   "source": [
    "torch.multiply(f32, 101)"
   ]
  },
  {
   "cell_type": "code",
   "execution_count": 14,
   "id": "2ebd7159-a3cc-4a7f-a670-2a888e61186a",
   "metadata": {},
   "outputs": [
    {
     "data": {
      "text/plain": [
       "tensor(69., dtype=torch.float64)"
      ]
     },
     "execution_count": 14,
     "metadata": {},
     "output_type": "execute_result"
    }
   ],
   "source": [
    "torch.sum(f32)"
   ]
  },
  {
   "cell_type": "code",
   "execution_count": 16,
   "id": "6cf1d335-df33-4b1e-aa83-8fab4d86834e",
   "metadata": {},
   "outputs": [
    {
     "data": {
      "text/plain": [
       "tensor(69., dtype=torch.float64)"
      ]
     },
     "execution_count": 16,
     "metadata": {},
     "output_type": "execute_result"
    }
   ],
   "source": [
    "torch.sum(f32,(0))"
   ]
  },
  {
   "cell_type": "code",
   "execution_count": 17,
   "id": "3a0a9d65-2318-4c48-bf83-a34fb378db74",
   "metadata": {},
   "outputs": [],
   "source": [
    "data = torch.tensor([\n",
    "                    [1,2,7],\n",
    "                    [4,5,9]\n",
    "])"
   ]
  },
  {
   "cell_type": "code",
   "execution_count": 18,
   "id": "7049289c-db89-40c2-a1c0-84f430f5b28e",
   "metadata": {},
   "outputs": [
    {
     "data": {
      "text/plain": [
       "tensor([10, 18])"
      ]
     },
     "execution_count": 18,
     "metadata": {},
     "output_type": "execute_result"
    }
   ],
   "source": [
    "torch.sum(data, 1)"
   ]
  },
  {
   "cell_type": "code",
   "execution_count": 19,
   "id": "f284cd86-e313-41da-b754-07ba19bfe834",
   "metadata": {},
   "outputs": [
    {
     "data": {
      "text/plain": [
       "tensor(28)"
      ]
     },
     "execution_count": 19,
     "metadata": {},
     "output_type": "execute_result"
    }
   ],
   "source": [
    "torch.sum(data)"
   ]
  },
  {
   "cell_type": "code",
   "execution_count": 20,
   "id": "d21d2413-6bd5-46f5-a0b1-53c165e7fae3",
   "metadata": {},
   "outputs": [
    {
     "data": {
      "text/plain": [
       "tensor([ 5,  7, 16])"
      ]
     },
     "execution_count": 20,
     "metadata": {},
     "output_type": "execute_result"
    }
   ],
   "source": [
    "torch.sum(data, 0)"
   ]
  },
  {
   "cell_type": "code",
   "execution_count": 21,
   "id": "2c5a6a1f-def7-432f-91ab-0e5d335fa466",
   "metadata": {},
   "outputs": [
    {
     "data": {
      "text/plain": [
       "tensor(28)"
      ]
     },
     "execution_count": 21,
     "metadata": {},
     "output_type": "execute_result"
    }
   ],
   "source": [
    "torch.sum(data, (0,1))"
   ]
  },
  {
   "cell_type": "code",
   "execution_count": 23,
   "id": "83e165fb-6807-434b-a64f-a2434ed8946e",
   "metadata": {},
   "outputs": [
    {
     "data": {
      "text/plain": [
       "tensor([10, 18])"
      ]
     },
     "execution_count": 23,
     "metadata": {},
     "output_type": "execute_result"
    }
   ],
   "source": [
    "torch.sum(data, (-1))"
   ]
  },
  {
   "cell_type": "markdown",
   "id": "c9be0ecb-5646-48a4-9c4b-41abbc0e539d",
   "metadata": {},
   "source": [
    "### element wise mulitplication"
   ]
  },
  {
   "cell_type": "code",
   "execution_count": 24,
   "id": "297a7730-0967-4150-bb81-7c514182fc7a",
   "metadata": {},
   "outputs": [
    {
     "data": {
      "text/plain": [
       "tensor([1.0000e+00, 2.0250e+03, 5.2900e+02], dtype=torch.float64)"
      ]
     },
     "execution_count": 24,
     "metadata": {},
     "output_type": "execute_result"
    }
   ],
   "source": [
    "f1 * f32"
   ]
  },
  {
   "cell_type": "code",
   "execution_count": 25,
   "id": "352e66cb-24c4-44b3-b6d7-9b7f5f1fc6fe",
   "metadata": {},
   "outputs": [
    {
     "data": {
      "text/plain": [
       "tensor([ 1., 45., 23.], dtype=torch.float16)"
      ]
     },
     "execution_count": 25,
     "metadata": {},
     "output_type": "execute_result"
    }
   ],
   "source": [
    "f1"
   ]
  },
  {
   "cell_type": "code",
   "execution_count": 26,
   "id": "b1707c05-bb80-40a4-a66f-f2170819ad52",
   "metadata": {},
   "outputs": [
    {
     "data": {
      "text/plain": [
       "tensor([ 1., 45., 23.], dtype=torch.float64)"
      ]
     },
     "execution_count": 26,
     "metadata": {},
     "output_type": "execute_result"
    }
   ],
   "source": [
    "f32"
   ]
  },
  {
   "cell_type": "markdown",
   "id": "3b8e41c8-5408-4bed-abbb-3314577d5076",
   "metadata": {},
   "source": [
    "### tranpose"
   ]
  },
  {
   "cell_type": "code",
   "execution_count": 27,
   "id": "d6326c48-2042-4708-9027-c6f79556d607",
   "metadata": {},
   "outputs": [],
   "source": [
    "d = torch.tensor(np.arange(1,10).reshape(3,3))\n",
    "                "
   ]
  },
  {
   "cell_type": "code",
   "execution_count": 28,
   "id": "5e6f079f-632e-4311-bab7-33ea4b257e04",
   "metadata": {},
   "outputs": [
    {
     "data": {
      "text/plain": [
       "tensor([[1, 2, 3],\n",
       "        [4, 5, 6],\n",
       "        [7, 8, 9]], dtype=torch.int32)"
      ]
     },
     "execution_count": 28,
     "metadata": {},
     "output_type": "execute_result"
    }
   ],
   "source": [
    "d"
   ]
  },
  {
   "cell_type": "code",
   "execution_count": 29,
   "id": "896b8a92-1e66-423d-95a0-6b2731da45dc",
   "metadata": {},
   "outputs": [
    {
     "data": {
      "text/plain": [
       "tensor([[1, 4, 7],\n",
       "        [2, 5, 8],\n",
       "        [3, 6, 9]], dtype=torch.int32)"
      ]
     },
     "execution_count": 29,
     "metadata": {},
     "output_type": "execute_result"
    }
   ],
   "source": [
    "d.T"
   ]
  },
  {
   "cell_type": "code",
   "execution_count": 30,
   "id": "85aaa242-c591-4c5c-aa32-2fd46f5e0838",
   "metadata": {},
   "outputs": [
    {
     "data": {
      "text/plain": [
       "tensor([[1, 2, 3],\n",
       "        [4, 5, 6],\n",
       "        [7, 8, 9]], dtype=torch.int32)"
      ]
     },
     "execution_count": 30,
     "metadata": {},
     "output_type": "execute_result"
    }
   ],
   "source": [
    "d"
   ]
  },
  {
   "cell_type": "code",
   "execution_count": 33,
   "id": "a04f414e-5319-47df-ad18-4d1aa17a36ed",
   "metadata": {},
   "outputs": [
    {
     "data": {
      "text/plain": [
       "tensor([[1, 4, 7],\n",
       "        [2, 5, 8],\n",
       "        [3, 6, 9]], dtype=torch.int32)"
      ]
     },
     "execution_count": 33,
     "metadata": {},
     "output_type": "execute_result"
    }
   ],
   "source": [
    "d.transpose(1,0)"
   ]
  },
  {
   "cell_type": "code",
   "execution_count": 34,
   "id": "9a3aafa2-bc21-4832-b5ed-2a4a1624e227",
   "metadata": {},
   "outputs": [
    {
     "data": {
      "text/plain": [
       "tensor([[1, 4, 7],\n",
       "        [2, 5, 8],\n",
       "        [3, 6, 9]], dtype=torch.int32)"
      ]
     },
     "execution_count": 34,
     "metadata": {},
     "output_type": "execute_result"
    }
   ],
   "source": [
    "d.transpose(0,1)"
   ]
  },
  {
   "cell_type": "markdown",
   "id": "9429693e-72d6-48d1-9dad-03745612cda1",
   "metadata": {},
   "source": [
    "# "
   ]
  },
  {
   "cell_type": "markdown",
   "id": "29ca1718-fc6d-4147-a7b3-a26d6cec693d",
   "metadata": {},
   "source": [
    "# \n",
    "Neural networks are full of matrix multiplications and dot products."
   ]
  },
  {
   "cell_type": "code",
   "execution_count": 35,
   "id": "953e1c56-cb84-413f-986f-46ee6b9789af",
   "metadata": {},
   "outputs": [],
   "source": [
    "# y =A.xT+b\n",
    "A =d"
   ]
  },
  {
   "cell_type": "code",
   "execution_count": 36,
   "id": "3f7c5e13-97f4-4208-a9cb-f9bf55559c64",
   "metadata": {},
   "outputs": [
    {
     "data": {
      "text/plain": [
       "tensor([[1, 2, 3],\n",
       "        [4, 5, 6],\n",
       "        [7, 8, 9]], dtype=torch.int32)"
      ]
     },
     "execution_count": 36,
     "metadata": {},
     "output_type": "execute_result"
    }
   ],
   "source": [
    "A"
   ]
  },
  {
   "cell_type": "markdown",
   "id": "09b09f8e-3574-4a2e-940f-a28b183845cb",
   "metadata": {},
   "source": [
    "### torch.nn.linear"
   ]
  },
  {
   "cell_type": "code",
   "execution_count": 39,
   "id": "75593329-c4d9-4de2-aa0c-cca4554048ba",
   "metadata": {},
   "outputs": [
    {
     "data": {
      "text/plain": [
       "<torch._C.Generator at 0x1f425e609d0>"
      ]
     },
     "execution_count": 39,
     "metadata": {},
     "output_type": "execute_result"
    }
   ],
   "source": [
    "torch.manual_seed(43)"
   ]
  },
  {
   "cell_type": "code",
   "execution_count": 40,
   "id": "87ddf686-d782-404f-abd7-aedf2b9b81e1",
   "metadata": {},
   "outputs": [],
   "source": [
    "l = torch.nn.Linear(in_features=2, out_features=6)"
   ]
  },
  {
   "cell_type": "code",
   "execution_count": 41,
   "id": "a8510417-b12b-4b21-bc3a-e47e0c4df55d",
   "metadata": {},
   "outputs": [
    {
     "data": {
      "text/plain": [
       "Linear(in_features=2, out_features=6, bias=True)"
      ]
     },
     "execution_count": 41,
     "metadata": {},
     "output_type": "execute_result"
    }
   ],
   "source": [
    "l"
   ]
  },
  {
   "cell_type": "markdown",
   "id": "1ef14739-db6f-475c-af74-f0948a5b45a7",
   "metadata": {},
   "source": [
    "### mean max, min, sum"
   ]
  },
  {
   "cell_type": "code",
   "execution_count": 42,
   "id": "d238fa0c-373d-4344-84c8-594540c96fce",
   "metadata": {},
   "outputs": [
    {
     "data": {
      "text/plain": [
       "tensor([[1, 2, 3],\n",
       "        [4, 5, 6],\n",
       "        [7, 8, 9]], dtype=torch.int32)"
      ]
     },
     "execution_count": 42,
     "metadata": {},
     "output_type": "execute_result"
    }
   ],
   "source": [
    "A"
   ]
  },
  {
   "cell_type": "code",
   "execution_count": 43,
   "id": "20eca0b0-60d3-4641-9318-7d4d5f2e57b5",
   "metadata": {},
   "outputs": [
    {
     "data": {
      "text/plain": [
       "tensor([12, 15, 18])"
      ]
     },
     "execution_count": 43,
     "metadata": {},
     "output_type": "execute_result"
    }
   ],
   "source": [
    "torch.sum(A, 0)"
   ]
  },
  {
   "cell_type": "code",
   "execution_count": 45,
   "id": "ffa6d598-7cc8-473d-a304-556c938c734a",
   "metadata": {},
   "outputs": [
    {
     "data": {
      "text/plain": [
       "tensor(5., dtype=torch.float16)"
      ]
     },
     "execution_count": 45,
     "metadata": {},
     "output_type": "execute_result"
    }
   ],
   "source": [
    "torch.mean(A.type(torch.float16))"
   ]
  },
  {
   "cell_type": "code",
   "execution_count": 46,
   "id": "ecb97863-9cdb-4671-9ed3-e828cdf2042f",
   "metadata": {},
   "outputs": [
    {
     "data": {
      "text/plain": [
       "tensor([4., 5., 6.], dtype=torch.float16)"
      ]
     },
     "execution_count": 46,
     "metadata": {},
     "output_type": "execute_result"
    }
   ],
   "source": [
    "torch.mean(A.type(torch.float16), 0)"
   ]
  },
  {
   "cell_type": "code",
   "execution_count": 47,
   "id": "28b76b16-721b-464a-adbe-411a8b054842",
   "metadata": {},
   "outputs": [
    {
     "data": {
      "text/plain": [
       "tensor([2., 5., 8.], dtype=torch.float16)"
      ]
     },
     "execution_count": 47,
     "metadata": {},
     "output_type": "execute_result"
    }
   ],
   "source": [
    "torch.mean(A.type(torch.float16), 1)"
   ]
  },
  {
   "cell_type": "code",
   "execution_count": 57,
   "id": "711b4a11-1ac4-48cb-9417-610240988e57",
   "metadata": {},
   "outputs": [],
   "source": [
    "large_tensor = torch.arange(100, 1000,10).view(2,5,9)"
   ]
  },
  {
   "cell_type": "code",
   "execution_count": 58,
   "id": "d50fe498-bc47-484f-a451-09dcd6b996e5",
   "metadata": {},
   "outputs": [
    {
     "data": {
      "text/plain": [
       "tensor([[[100, 110, 120, 130, 140, 150, 160, 170, 180],\n",
       "         [190, 200, 210, 220, 230, 240, 250, 260, 270],\n",
       "         [280, 290, 300, 310, 320, 330, 340, 350, 360],\n",
       "         [370, 380, 390, 400, 410, 420, 430, 440, 450],\n",
       "         [460, 470, 480, 490, 500, 510, 520, 530, 540]],\n",
       "\n",
       "        [[550, 560, 570, 580, 590, 600, 610, 620, 630],\n",
       "         [640, 650, 660, 670, 680, 690, 700, 710, 720],\n",
       "         [730, 740, 750, 760, 770, 780, 790, 800, 810],\n",
       "         [820, 830, 840, 850, 860, 870, 880, 890, 900],\n",
       "         [910, 920, 930, 940, 950, 960, 970, 980, 990]]])"
      ]
     },
     "execution_count": 58,
     "metadata": {},
     "output_type": "execute_result"
    }
   ],
   "source": [
    "large_tensor"
   ]
  },
  {
   "cell_type": "code",
   "execution_count": 61,
   "id": "cb514b2f-54a0-4d42-a1f8-f4e8bd552b45",
   "metadata": {},
   "outputs": [
    {
     "data": {
      "text/plain": [
       "tensor([5050, 5150, 5250, 5350, 5450, 5550, 5650, 5750, 5850])"
      ]
     },
     "execution_count": 61,
     "metadata": {},
     "output_type": "execute_result"
    }
   ],
   "source": [
    "torch.sum(large_tensor, (0,1))"
   ]
  },
  {
   "cell_type": "code",
   "execution_count": 62,
   "id": "07dc120d-9822-411b-89eb-1bffaaa57709",
   "metadata": {},
   "outputs": [
    {
     "data": {
      "text/plain": [
       "tensor([[ 650,  670,  690,  710,  730,  750,  770,  790,  810],\n",
       "        [ 830,  850,  870,  890,  910,  930,  950,  970,  990],\n",
       "        [1010, 1030, 1050, 1070, 1090, 1110, 1130, 1150, 1170],\n",
       "        [1190, 1210, 1230, 1250, 1270, 1290, 1310, 1330, 1350],\n",
       "        [1370, 1390, 1410, 1430, 1450, 1470, 1490, 1510, 1530]])"
      ]
     },
     "execution_count": 62,
     "metadata": {},
     "output_type": "execute_result"
    }
   ],
   "source": [
    "torch.sum(large_tensor, (0,))"
   ]
  },
  {
   "cell_type": "code",
   "execution_count": 67,
   "id": "398ccc60-9e30-4e85-b977-f60f2ccd6045",
   "metadata": {},
   "outputs": [
    {
     "data": {
      "text/plain": [
       "tensor([5050, 5150, 5250, 5350, 5450, 5550, 5650, 5750, 5850])"
      ]
     },
     "execution_count": 67,
     "metadata": {},
     "output_type": "execute_result"
    }
   ],
   "source": [
    "torch.sum(large_tensor, (1,0))"
   ]
  },
  {
   "cell_type": "code",
   "execution_count": null,
   "id": "5dd66a4e-e1ca-4d37-b8c0-9e839b6f22b5",
   "metadata": {},
   "outputs": [],
   "source": []
  }
 ],
 "metadata": {
  "kernelspec": {
   "display_name": "Python 3 (ipykernel)",
   "language": "python",
   "name": "python3"
  },
  "language_info": {
   "codemirror_mode": {
    "name": "ipython",
    "version": 3
   },
   "file_extension": ".py",
   "mimetype": "text/x-python",
   "name": "python",
   "nbconvert_exporter": "python",
   "pygments_lexer": "ipython3",
   "version": "3.10.11"
  }
 },
 "nbformat": 4,
 "nbformat_minor": 5
}
